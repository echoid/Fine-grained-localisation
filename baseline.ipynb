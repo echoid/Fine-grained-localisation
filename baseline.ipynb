{
 "cells": [
  {
   "cell_type": "code",
   "execution_count": 1,
   "metadata": {},
   "outputs": [
    {
     "name": "stderr",
     "output_type": "stream",
     "text": [
      "Using TensorFlow backend.\n"
     ]
    }
   ],
   "source": [
    "import matplotlib.pyplot as plt\n",
    "import numpy as np\n",
    "import pandas as pd\n",
    "import os\n",
    "import cv2  \n",
    "from tqdm import tqdm\n",
    "from random import randint\n",
    "import json\n",
    "import matplotlib.image as mpimg\n",
    "from matplotlib import rcParams\n",
    "from tensorflow.keras.applications.resnet50 import ResNet50\n",
    "from tensorflow.keras.preprocessing import image\n",
    "from tensorflow.keras.applications.resnet50 import preprocess_input, decode_predictions\n",
    "from keras.preprocessing.image import load_img \n",
    "from keras.preprocessing.image import img_to_array \n",
    "from keras.applications.vgg16 import preprocess_input \n",
    "\n",
    "import tensorflow as tf\n",
    "from tensorflow import keras\n",
    "from tensorflow.keras import layers"
   ]
  },
  {
   "cell_type": "code",
   "execution_count": 2,
   "metadata": {},
   "outputs": [],
   "source": [
    "def show_image(images,name,row,col,size1=15,size2=15):\n",
    "    n = len(images)\n",
    "    plt.subplots(figsize=(15, 15))\n",
    "\n",
    "    for i in range(n):\n",
    "        plt.subplot(row,col,i+1)\n",
    "        plt.title(name[i])\n",
    "        plt.imshow(images[i], cmap='gray')\n",
    "        plt.axis('off')   \n",
    "    plt.show()"
   ]
  },
  {
   "cell_type": "code",
   "execution_count": 3,
   "metadata": {},
   "outputs": [],
   "source": [
    "train_path = \"data/train\"\n",
    "test_path = \"data/test\""
   ]
  },
  {
   "cell_type": "code",
   "execution_count": 4,
   "metadata": {},
   "outputs": [],
   "source": [
    "train = os.listdir(train_path)\n",
    "test = os.listdir(test_path)"
   ]
  },
  {
   "cell_type": "code",
   "execution_count": 8,
   "metadata": {},
   "outputs": [],
   "source": [
    "train_image = [cv2.resize(cv2.cvtColor(cv2.imread(os.path.join(train_path, image)), cv2.COLOR_BGR2RGB),(200,200))  for image in train ]"
   ]
  },
  {
   "cell_type": "code",
   "execution_count": 9,
   "metadata": {},
   "outputs": [],
   "source": [
    "test_image = [cv2.resize(cv2.cvtColor(cv2.imread(os.path.join(test_path, image)), cv2.COLOR_BGR2RGB),(200,200))  for image in test ]"
   ]
  },
  {
   "cell_type": "code",
   "execution_count": 10,
   "metadata": {},
   "outputs": [
    {
     "data": {
      "text/html": [
       "<div>\n",
       "<style scoped>\n",
       "    .dataframe tbody tr th:only-of-type {\n",
       "        vertical-align: middle;\n",
       "    }\n",
       "\n",
       "    .dataframe tbody tr th {\n",
       "        vertical-align: top;\n",
       "    }\n",
       "\n",
       "    .dataframe thead th {\n",
       "        text-align: right;\n",
       "    }\n",
       "</style>\n",
       "<table border=\"1\" class=\"dataframe\">\n",
       "  <thead>\n",
       "    <tr style=\"text-align: right;\">\n",
       "      <th></th>\n",
       "      <th>x</th>\n",
       "      <th>y</th>\n",
       "    </tr>\n",
       "  </thead>\n",
       "  <tbody>\n",
       "    <tr>\n",
       "      <th>0</th>\n",
       "      <td>-9.380678</td>\n",
       "      <td>3.58272</td>\n",
       "    </tr>\n",
       "    <tr>\n",
       "      <th>1</th>\n",
       "      <td>-9.380678</td>\n",
       "      <td>3.58272</td>\n",
       "    </tr>\n",
       "    <tr>\n",
       "      <th>2</th>\n",
       "      <td>-9.380678</td>\n",
       "      <td>3.58272</td>\n",
       "    </tr>\n",
       "    <tr>\n",
       "      <th>3</th>\n",
       "      <td>-9.380678</td>\n",
       "      <td>3.58272</td>\n",
       "    </tr>\n",
       "    <tr>\n",
       "      <th>4</th>\n",
       "      <td>-9.380678</td>\n",
       "      <td>3.58272</td>\n",
       "    </tr>\n",
       "    <tr>\n",
       "      <th>...</th>\n",
       "      <td>...</td>\n",
       "      <td>...</td>\n",
       "    </tr>\n",
       "    <tr>\n",
       "      <th>7495</th>\n",
       "      <td>-4.680678</td>\n",
       "      <td>35.18272</td>\n",
       "    </tr>\n",
       "    <tr>\n",
       "      <th>7496</th>\n",
       "      <td>-4.680678</td>\n",
       "      <td>35.18272</td>\n",
       "    </tr>\n",
       "    <tr>\n",
       "      <th>7497</th>\n",
       "      <td>-4.680678</td>\n",
       "      <td>35.18272</td>\n",
       "    </tr>\n",
       "    <tr>\n",
       "      <th>7498</th>\n",
       "      <td>-4.680678</td>\n",
       "      <td>35.18272</td>\n",
       "    </tr>\n",
       "    <tr>\n",
       "      <th>7499</th>\n",
       "      <td>-4.680678</td>\n",
       "      <td>35.18272</td>\n",
       "    </tr>\n",
       "  </tbody>\n",
       "</table>\n",
       "<p>7500 rows × 2 columns</p>\n",
       "</div>"
      ],
      "text/plain": [
       "             x         y\n",
       "0    -9.380678   3.58272\n",
       "1    -9.380678   3.58272\n",
       "2    -9.380678   3.58272\n",
       "3    -9.380678   3.58272\n",
       "4    -9.380678   3.58272\n",
       "...        ...       ...\n",
       "7495 -4.680678  35.18272\n",
       "7496 -4.680678  35.18272\n",
       "7497 -4.680678  35.18272\n",
       "7498 -4.680678  35.18272\n",
       "7499 -4.680678  35.18272\n",
       "\n",
       "[7500 rows x 2 columns]"
      ]
     },
     "execution_count": 10,
     "metadata": {},
     "output_type": "execute_result"
    }
   ],
   "source": [
    "label = pd.read_csv(\"data/train_features.csv\")\n",
    "label[[\"x\",\"y\"]]"
   ]
  },
  {
   "cell_type": "code",
   "execution_count": 11,
   "metadata": {},
   "outputs": [],
   "source": [
    "y_label = []\n",
    "for index, row in label.iterrows():\n",
    "    y_label.append((row[\"x\"],row[\"y\"]))\n",
    "y_label = np.array(y_label)\n",
    "train_image = np.array(train_image)"
   ]
  },
  {
   "cell_type": "code",
   "execution_count": 20,
   "metadata": {},
   "outputs": [],
   "source": [
    "test_image = np.array(test_image)"
   ]
  },
  {
   "cell_type": "code",
   "execution_count": 34,
   "metadata": {},
   "outputs": [
    {
     "name": "stdout",
     "output_type": "stream",
     "text": [
      "Num GPUs Available:  1\n"
     ]
    }
   ],
   "source": [
    "import tensorflow as tf\n",
    "print(\"Num GPUs Available: \", len(tf.config.experimental.list_physical_devices('GPU')))"
   ]
  },
  {
   "cell_type": "code",
   "execution_count": 13,
   "metadata": {},
   "outputs": [],
   "source": [
    "pre_model = ResNet50(weights='imagenet',input_shape=[200,200,3],include_top=False)"
   ]
  },
  {
   "cell_type": "code",
   "execution_count": 15,
   "metadata": {},
   "outputs": [],
   "source": [
    "import tensorflow as tf\n",
    "from tensorflow import keras\n",
    "from tensorflow.keras import layers\n",
    "from keras.layers.merge import concatenate\n",
    "from tensorflow.keras.models import Model"
   ]
  },
  {
   "cell_type": "code",
   "execution_count": 17,
   "metadata": {},
   "outputs": [],
   "source": [
    "for layer in pre_model.layers:\n",
    "    layer.trainable = False\n",
    "\n",
    "conv1 = layers.Conv2D(filters = 32,kernel_size = (1,1),padding = \"same\",activation = \"relu\")(pre_model.layers[-1].output)\n",
    "conv2 = layers.Conv2D(filters = 64,kernel_size = (3,3),padding = \"same\",activation = \"relu\")(conv1)\n",
    "conv3 = layers.Conv2D(filters = 64,kernel_size = (3,3),padding = \"same\",activation = \"relu\")(conv2)\n",
    "mp = layers.MaxPooling2D(pool_size=(2,2), strides=2,padding=\"same\")(conv3)\n",
    "flat = layers.Flatten()(mp)\n",
    "dropout = layers.Dropout(0.5)(flat)\n",
    "dense1 = layers.Dense(1024,activation=\"relu\")(dropout)\n",
    "dense2 = layers.Dense(2,activation=\"linear\")(dense1)\n",
    "\n",
    "model = Model(inputs = pre_model.inputs,outputs = dense2)\n"
   ]
  },
  {
   "cell_type": "code",
   "execution_count": 18,
   "metadata": {},
   "outputs": [],
   "source": [
    "opt = keras.optimizers.Adam(learning_rate=0.001)\n",
    "model.compile(optimizer=opt,\n",
    "            loss=tf.keras.losses.MeanAbsoluteError())"
   ]
  },
  {
   "cell_type": "code",
   "execution_count": 36,
   "metadata": {},
   "outputs": [
    {
     "name": "stdout",
     "output_type": "stream",
     "text": [
      "Epoch 1/40\n",
      "59/59 [==============================] - 19s 326ms/step - loss: 7.1959\n",
      "Epoch 2/40\n",
      "59/59 [==============================] - 19s 328ms/step - loss: 6.6978\n",
      "Epoch 3/40\n",
      "59/59 [==============================] - 19s 329ms/step - loss: 6.6887\n",
      "Epoch 4/40\n",
      "59/59 [==============================] - 19s 329ms/step - loss: 6.5046\n",
      "Epoch 5/40\n",
      "59/59 [==============================] - 19s 329ms/step - loss: 6.7688\n",
      "Epoch 6/40\n",
      "59/59 [==============================] - 19s 329ms/step - loss: 6.2619\n",
      "Epoch 7/40\n",
      "59/59 [==============================] - 20s 331ms/step - loss: 6.4266\n",
      "Epoch 8/40\n",
      "59/59 [==============================] - 20s 331ms/step - loss: 6.1108\n",
      "Epoch 9/40\n",
      "59/59 [==============================] - 20s 332ms/step - loss: 5.9711\n",
      "Epoch 10/40\n",
      "59/59 [==============================] - 19s 327ms/step - loss: 5.7627\n",
      "Epoch 11/40\n",
      "59/59 [==============================] - 19s 329ms/step - loss: 5.8795\n",
      "Epoch 12/40\n",
      "59/59 [==============================] - 19s 329ms/step - loss: 5.6167\n",
      "Epoch 13/40\n",
      "59/59 [==============================] - 19s 330ms/step - loss: 5.5855\n",
      "Epoch 14/40\n",
      "59/59 [==============================] - 19s 330ms/step - loss: 5.3957\n",
      "Epoch 15/40\n",
      "59/59 [==============================] - 17s 295ms/step - loss: 5.3461\n",
      "Epoch 16/40\n",
      "59/59 [==============================] - 17s 290ms/step - loss: 5.3518\n",
      "Epoch 17/40\n",
      "59/59 [==============================] - 17s 288ms/step - loss: 5.2943\n",
      "Epoch 18/40\n",
      "59/59 [==============================] - 17s 287ms/step - loss: 5.3380\n",
      "Epoch 19/40\n",
      "59/59 [==============================] - 17s 284ms/step - loss: 5.2465\n",
      "Epoch 20/40\n",
      "59/59 [==============================] - 17s 284ms/step - loss: 5.4000\n",
      "Epoch 21/40\n",
      "59/59 [==============================] - 17s 284ms/step - loss: 5.1020\n",
      "Epoch 22/40\n",
      "59/59 [==============================] - 17s 290ms/step - loss: 4.9306\n",
      "Epoch 23/40\n",
      "59/59 [==============================] - 17s 286ms/step - loss: 4.9711\n",
      "Epoch 24/40\n",
      "59/59 [==============================] - 17s 286ms/step - loss: 4.8844\n",
      "Epoch 25/40\n",
      "59/59 [==============================] - 17s 286ms/step - loss: 4.9202\n",
      "Epoch 26/40\n",
      "59/59 [==============================] - 17s 286ms/step - loss: 4.7583\n",
      "Epoch 27/40\n",
      "59/59 [==============================] - 17s 286ms/step - loss: 4.8190\n",
      "Epoch 28/40\n",
      "59/59 [==============================] - 17s 286ms/step - loss: 4.8092\n",
      "Epoch 29/40\n",
      "59/59 [==============================] - 17s 289ms/step - loss: 4.7625\n",
      "Epoch 30/40\n",
      "59/59 [==============================] - 17s 286ms/step - loss: 4.7217\n",
      "Epoch 31/40\n",
      "59/59 [==============================] - 17s 286ms/step - loss: 4.5458\n",
      "Epoch 32/40\n",
      "59/59 [==============================] - 17s 286ms/step - loss: 4.6110\n",
      "Epoch 33/40\n",
      "59/59 [==============================] - 17s 286ms/step - loss: 4.5573\n",
      "Epoch 34/40\n",
      "59/59 [==============================] - 17s 286ms/step - loss: 4.4967\n",
      "Epoch 35/40\n",
      "59/59 [==============================] - 17s 286ms/step - loss: 4.6161\n",
      "Epoch 36/40\n",
      "59/59 [==============================] - 17s 286ms/step - loss: 4.4640\n",
      "Epoch 37/40\n",
      "59/59 [==============================] - 17s 286ms/step - loss: 4.5205\n",
      "Epoch 38/40\n",
      "59/59 [==============================] - 17s 286ms/step - loss: 4.4040\n",
      "Epoch 39/40\n",
      "59/59 [==============================] - 17s 286ms/step - loss: 4.4731\n",
      "Epoch 40/40\n",
      "59/59 [==============================] - 17s 286ms/step - loss: 4.5509\n"
     ]
    },
    {
     "data": {
      "text/plain": [
       "<tensorflow.python.keras.callbacks.History at 0x18e472d17c0>"
      ]
     },
     "execution_count": 36,
     "metadata": {},
     "output_type": "execute_result"
    }
   ],
   "source": [
    "model.fit(train_image, label[[\"x\",\"y\"]], epochs=40, batch_size=128)"
   ]
  },
  {
   "cell_type": "code",
   "execution_count": 38,
   "metadata": {},
   "outputs": [],
   "source": [
    "result = model.predict(test_image)\n"
   ]
  },
  {
   "cell_type": "code",
   "execution_count": 39,
   "metadata": {},
   "outputs": [
    {
     "data": {
      "text/plain": [
       "array([ 23.909966, -80.70059 ], dtype=float32)"
      ]
     },
     "execution_count": 39,
     "metadata": {},
     "output_type": "execute_result"
    }
   ],
   "source": [
    "result[0]"
   ]
  },
  {
   "cell_type": "code",
   "execution_count": 40,
   "metadata": {},
   "outputs": [],
   "source": [
    "x = []\n",
    "y = []\n",
    "for i in result:\n",
    "   x.append(i[0])\n",
    "   y.append(i[1]) "
   ]
  },
  {
   "cell_type": "code",
   "execution_count": 41,
   "metadata": {},
   "outputs": [],
   "source": [
    "test_result = pd.read_csv(\"data/imagenames.csv\")"
   ]
  },
  {
   "cell_type": "code",
   "execution_count": 42,
   "metadata": {},
   "outputs": [],
   "source": [
    "test_result[\"x\"] = x\n",
    "test_result[\"y\"] = y"
   ]
  },
  {
   "cell_type": "code",
   "execution_count": null,
   "metadata": {},
   "outputs": [],
   "source": [
    "test_result.to_csv(\"result/CNN_baseline_40.csv\",index=False)"
   ]
  }
 ],
 "metadata": {
  "interpreter": {
   "hash": "287d3d239aeb1281e5f3cf03f4241abc897b23c26a2bcf773cf4f70fe57fe31a"
  },
  "kernelspec": {
   "display_name": "Python 3.8.8 64-bit ('base': conda)",
   "name": "python3"
  },
  "language_info": {
   "codemirror_mode": {
    "name": "ipython",
    "version": 3
   },
   "file_extension": ".py",
   "mimetype": "text/x-python",
   "name": "python",
   "nbconvert_exporter": "python",
   "pygments_lexer": "ipython3",
   "version": "3.8.8"
  },
  "orig_nbformat": 4
 },
 "nbformat": 4,
 "nbformat_minor": 2
}
