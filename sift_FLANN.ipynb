{
 "cells": [
  {
   "cell_type": "code",
   "execution_count": 1,
   "metadata": {},
   "outputs": [],
   "source": [
    "import pandas as pd\n",
    "import os\n",
    "import cv2  \n",
    "from tqdm import tqdm\n",
    "\n",
    "\n",
    "from collections import defaultdict"
   ]
  },
  {
   "cell_type": "code",
   "execution_count": null,
   "metadata": {},
   "outputs": [],
   "source": []
  },
  {
   "cell_type": "code",
   "execution_count": 2,
   "metadata": {},
   "outputs": [],
   "source": [
    "train_path = \"data/train\"\n",
    "test_path = \"data/test\""
   ]
  },
  {
   "cell_type": "code",
   "execution_count": 3,
   "metadata": {},
   "outputs": [],
   "source": [
    "train = os.listdir(train_path)\n",
    "test = os.listdir(test_path)"
   ]
  },
  {
   "cell_type": "code",
   "execution_count": 4,
   "metadata": {},
   "outputs": [],
   "source": [
    "train_image = [cv2.cvtColor(cv2.imread(os.path.join(train_path, image)), cv2.COLOR_BGR2RGB)  for image in train ]"
   ]
  },
  {
   "cell_type": "code",
   "execution_count": 5,
   "metadata": {},
   "outputs": [],
   "source": [
    "test_image = [cv2.cvtColor(cv2.imread(os.path.join(test_path, image)), cv2.COLOR_BGR2RGB)  for image in test ]"
   ]
  },
  {
   "cell_type": "code",
   "execution_count": null,
   "metadata": {},
   "outputs": [],
   "source": []
  },
  {
   "cell_type": "markdown",
   "metadata": {},
   "source": [
    "# ORB"
   ]
  },
  {
   "cell_type": "code",
   "execution_count": 8,
   "metadata": {},
   "outputs": [],
   "source": [
    "orb = cv2.ORB_create()"
   ]
  },
  {
   "cell_type": "code",
   "execution_count": 9,
   "metadata": {},
   "outputs": [
    {
     "name": "stderr",
     "output_type": "stream",
     "text": [
      "100%|██████████| 7500/7500 [00:58<00:00, 127.94it/s]\n"
     ]
    }
   ],
   "source": [
    "kp_train_orb = []\n",
    "des_trian_orb = []\n",
    "for image in tqdm(train_image):\n",
    "    kp, des = orb.detectAndCompute(image,None)\n",
    "    kp_train_orb.append(kp)\n",
    "    des_trian_orb.append(des)"
   ]
  },
  {
   "cell_type": "code",
   "execution_count": 20,
   "metadata": {},
   "outputs": [
    {
     "name": "stdout",
     "output_type": "stream",
     "text": [
      "470.9024\n"
     ]
    }
   ],
   "source": [
    "summ = 0\n",
    "for i in range(len(des_trian_orb)):\n",
    "    try:\n",
    "        summ += len(des_trian_orb[i])\n",
    "    except:\n",
    "        summ += 0\n",
    "\n",
    "print(summ / 7500)"
   ]
  },
  {
   "cell_type": "code",
   "execution_count": 10,
   "metadata": {},
   "outputs": [
    {
     "name": "stderr",
     "output_type": "stream",
     "text": [
      "100%|██████████| 1200/1200 [00:09<00:00, 124.56it/s]\n"
     ]
    }
   ],
   "source": [
    "kp_test_orb = []\n",
    "des_test_orb = []\n",
    "for image in tqdm(test_image):\n",
    "    kp, des = orb.detectAndCompute(image,None)\n",
    "    kp_test_orb.append(kp)\n",
    "    des_test_orb.append(des)"
   ]
  },
  {
   "cell_type": "markdown",
   "metadata": {},
   "source": [
    "# SIFT"
   ]
  },
  {
   "cell_type": "code",
   "execution_count": 6,
   "metadata": {},
   "outputs": [],
   "source": [
    "sift = cv2.SIFT_create() "
   ]
  },
  {
   "cell_type": "code",
   "execution_count": 7,
   "metadata": {},
   "outputs": [
    {
     "name": "stderr",
     "output_type": "stream",
     "text": [
      "100%|██████████| 7500/7500 [06:41<00:00, 18.68it/s]\n"
     ]
    }
   ],
   "source": [
    "kp_train_sift = []\n",
    "des_trian_sift = []\n",
    "for image in tqdm(train_image):\n",
    "    kp, des = sift.detectAndCompute(image,None)\n",
    "    kp_train_sift.append(kp)\n",
    "    des_trian_sift.append(des)"
   ]
  },
  {
   "cell_type": "code",
   "execution_count": 8,
   "metadata": {},
   "outputs": [
    {
     "name": "stdout",
     "output_type": "stream",
     "text": [
      "1189.7724\n"
     ]
    }
   ],
   "source": [
    "summ = 0\n",
    "for i in range(len(des_trian_sift)):\n",
    "    try:\n",
    "        summ += len(des_trian_sift[i])\n",
    "    except:\n",
    "        summ += 0\n",
    "\n",
    "print(summ / 7500)"
   ]
  },
  {
   "cell_type": "code",
   "execution_count": 8,
   "metadata": {},
   "outputs": [
    {
     "name": "stderr",
     "output_type": "stream",
     "text": [
      "100%|██████████| 1200/1200 [01:04<00:00, 18.68it/s]\n"
     ]
    }
   ],
   "source": [
    "kp_test_sift = []\n",
    "des_test_sift = []\n",
    "for image in tqdm(test_image):\n",
    "    kp, des = sift.detectAndCompute(image,None)\n",
    "    kp_test_sift.append(kp)\n",
    "    des_test_sift.append(des)"
   ]
  },
  {
   "cell_type": "code",
   "execution_count": 11,
   "metadata": {},
   "outputs": [],
   "source": [
    "index_params = dict(algorithm = 1, trees = 5)\n",
    "search_params = dict(checks=50)   # or pass empty dictionary\n",
    "flann = cv2.FlannBasedMatcher(index_params,search_params)"
   ]
  },
  {
   "cell_type": "code",
   "execution_count": null,
   "metadata": {},
   "outputs": [],
   "source": [
    "for i in range(len(des_trian_sift)):\n",
    "    flann.add([des_trian_sift[i]])"
   ]
  },
  {
   "cell_type": "code",
   "execution_count": null,
   "metadata": {},
   "outputs": [],
   "source": [
    "flann.train()"
   ]
  },
  {
   "cell_type": "code",
   "execution_count": 12,
   "metadata": {},
   "outputs": [
    {
     "name": "stdout",
     "output_type": "stream",
     "text": [
      "7500\n"
     ]
    }
   ],
   "source": [
    "print(len(flann.getTrainDescriptors()))"
   ]
  },
  {
   "cell_type": "markdown",
   "metadata": {},
   "source": [
    "# FLANN Match"
   ]
  },
  {
   "cell_type": "code",
   "execution_count": null,
   "metadata": {},
   "outputs": [],
   "source": [
    "result = {}\n",
    "for i in tqdm(range(len(test))):\n",
    "    matches = flann.match(des_test[i])\n",
    "    matches_dict = defaultdict(lambda : 0)\n",
    "    for f in matches:\n",
    "        matches_dict[f.imgIdx]+=1\n",
    "    temp = sorted(matches_dict.items(),key=lambda x:x[1],reverse=True)\n",
    "    result[test[i]] = temp"
   ]
  },
  {
   "cell_type": "code",
   "execution_count": null,
   "metadata": {},
   "outputs": [],
   "source": [
    "result_index = []\n",
    "for key in result.keys():\n",
    "    try:\n",
    "        result_index.append(result[key][0][0])\n",
    "    # if the detector is None, the FLANN can not find any match item, return None\n",
    "    except:\n",
    "        result_index.append(None)"
   ]
  },
  {
   "cell_type": "code",
   "execution_count": null,
   "metadata": {},
   "outputs": [],
   "source": [
    "train_data = pd.read_csv(\"data/train.csv\")"
   ]
  },
  {
   "cell_type": "code",
   "execution_count": null,
   "metadata": {},
   "outputs": [],
   "source": [
    "cnn = pd.read_csv(\"result/CNN_baseline.csv\")"
   ]
  },
  {
   "cell_type": "code",
   "execution_count": null,
   "metadata": {},
   "outputs": [],
   "source": [
    "# Using the baseline result to replace the None\n",
    "x_coor = []\n",
    "y_coor = []\n",
    "for i in range(len(result_index)):\n",
    "    index = result_index[i]\n",
    "    if index:\n",
    "        x_coor.append(train_data.iloc[index][[\"x\"]][0])\n",
    "        y_coor.append(train_data.iloc[index][[\"y\"]][0])\n",
    "    else:\n",
    "        x_coor.append(cnn.iloc[i][[\"x\"]][0])\n",
    "        y_coor.append(cnn.iloc[i][[\"y\"]][0])\n"
   ]
  },
  {
   "cell_type": "code",
   "execution_count": null,
   "metadata": {},
   "outputs": [],
   "source": [
    "submit = pd.read_csv(\"data/imagenames.csv\")\n",
    "submit[\"x\"] = x_coor\n",
    "submit[\"y\"] = y_coor"
   ]
  },
  {
   "cell_type": "code",
   "execution_count": null,
   "metadata": {},
   "outputs": [],
   "source": [
    "submit.to_csv(\"result/sift_match.csv\",index = False)"
   ]
  },
  {
   "cell_type": "markdown",
   "metadata": {},
   "source": [
    "# FLANN KNN_match"
   ]
  },
  {
   "cell_type": "code",
   "execution_count": 41,
   "metadata": {},
   "outputs": [
    {
     "name": "stderr",
     "output_type": "stream",
     "text": [
      "100%|██████████| 1200/1200 [08:46<00:00,  2.28it/s]\n"
     ]
    }
   ],
   "source": [
    "result_knn = {}\n",
    "for i in tqdm(range(len(test))):\n",
    "    knn_matches = flann.knnMatch(des_test[i],k=2)\n",
    "    matches_dict = defaultdict(lambda : 0)\n",
    "    for m,n in knn_matches:\n",
    "        if m.distance < 0.6 *n.distance: \n",
    "            matches_dict[m.imgIdx]+=1\n",
    "    temp = sorted(matches_dict.items(),key=lambda x:x[1],reverse=True)\n",
    "    result_knn[test[i]] = temp"
   ]
  },
  {
   "cell_type": "code",
   "execution_count": 42,
   "metadata": {},
   "outputs": [],
   "source": [
    "result_index = []\n",
    "for key in result_knn.keys():\n",
    "    try:\n",
    "        result_index.append(result_knn[key][0][0])\n",
    "    except:\n",
    "        result_index.append(None)"
   ]
  },
  {
   "cell_type": "code",
   "execution_count": 43,
   "metadata": {},
   "outputs": [],
   "source": [
    "train_data = pd.read_csv(\"data/train.csv\")"
   ]
  },
  {
   "cell_type": "code",
   "execution_count": 44,
   "metadata": {},
   "outputs": [],
   "source": [
    "cnn = pd.read_csv(\"result/CNN_baseline.csv\")"
   ]
  },
  {
   "cell_type": "code",
   "execution_count": 45,
   "metadata": {},
   "outputs": [],
   "source": [
    "x_coor = []\n",
    "y_coor = []\n",
    "for i in range(len(result_index)):\n",
    "    index = result_index[i]\n",
    "    if index:\n",
    "        x_coor.append(train_data.iloc[index][[\"x\"]][0])\n",
    "        y_coor.append(train_data.iloc[index][[\"y\"]][0])\n",
    "    else:\n",
    "        x_coor.append(cnn.iloc[i][[\"x\"]][0])\n",
    "        y_coor.append(cnn.iloc[i][[\"y\"]][0])"
   ]
  },
  {
   "cell_type": "code",
   "execution_count": 47,
   "metadata": {},
   "outputs": [],
   "source": [
    "submit = pd.read_csv(\"data/imagenames.csv\")\n",
    "submit[\"x\"] = x_coor\n",
    "submit[\"y\"] = y_coor"
   ]
  },
  {
   "cell_type": "code",
   "execution_count": 40,
   "metadata": {},
   "outputs": [],
   "source": [
    "submit.to_csv(\"result/sift_KNNmatch0.6.csv\",index = False)"
   ]
  }
 ],
 "metadata": {
  "interpreter": {
   "hash": "287d3d239aeb1281e5f3cf03f4241abc897b23c26a2bcf773cf4f70fe57fe31a"
  },
  "kernelspec": {
   "display_name": "Python 3.8.8 64-bit ('base': conda)",
   "name": "python3"
  },
  "language_info": {
   "codemirror_mode": {
    "name": "ipython",
    "version": 3
   },
   "file_extension": ".py",
   "mimetype": "text/x-python",
   "name": "python",
   "nbconvert_exporter": "python",
   "pygments_lexer": "ipython3",
   "version": "3.8.8"
  },
  "orig_nbformat": 4
 },
 "nbformat": 4,
 "nbformat_minor": 2
}
