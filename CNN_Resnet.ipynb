{
 "cells": [
  {
   "cell_type": "code",
   "execution_count": 1,
   "metadata": {},
   "outputs": [
    {
     "name": "stderr",
     "output_type": "stream",
     "text": [
      "Using TensorFlow backend.\n"
     ]
    }
   ],
   "source": [
    "import matplotlib.pyplot as plt\n",
    "import numpy as np\n",
    "import pandas as pd\n",
    "import os\n",
    "import cv2  \n",
    "from tqdm import tqdm\n",
    "from random import randint\n",
    "import json\n",
    "import matplotlib.image as mpimg\n",
    "from matplotlib import rcParams\n",
    "from tensorflow.keras.applications.resnet50 import ResNet50\n",
    "from tensorflow.keras.applications.vgg19 import VGG19\n",
    "from tensorflow.keras.preprocessing import image\n",
    "from tensorflow.keras.applications.resnet50 import preprocess_input, decode_predictions\n",
    "from keras.preprocessing.image import load_img \n",
    "from keras.preprocessing.image import img_to_array \n",
    "from tensorflow.keras.applications.vgg16 import preprocess_input,VGG16\n",
    "\n",
    "import tensorflow as tf\n",
    "from tensorflow import keras\n",
    "from tensorflow.keras import layers"
   ]
  },
  {
   "cell_type": "code",
   "execution_count": 2,
   "metadata": {},
   "outputs": [],
   "source": [
    "train_path = \"data/train\"\n",
    "test_path = \"data/test\""
   ]
  },
  {
   "cell_type": "code",
   "execution_count": 3,
   "metadata": {},
   "outputs": [],
   "source": [
    "train = os.listdir(train_path)\n",
    "test = os.listdir(test_path)"
   ]
  },
  {
   "cell_type": "code",
   "execution_count": 4,
   "metadata": {},
   "outputs": [],
   "source": [
    "train_image = [cv2.resize(cv2.cvtColor(cv2.imread(os.path.join(train_path, image)), cv2.COLOR_BGR2RGB),(150,150))  for image in train ]"
   ]
  },
  {
   "cell_type": "code",
   "execution_count": 5,
   "metadata": {},
   "outputs": [],
   "source": [
    "test_image = [cv2.resize(cv2.cvtColor(cv2.imread(os.path.join(test_path, image)), cv2.COLOR_BGR2RGB),(150,150))  for image in test ]"
   ]
  },
  {
   "cell_type": "code",
   "execution_count": 6,
   "metadata": {},
   "outputs": [
    {
     "data": {
      "text/html": [
       "<div>\n",
       "<style scoped>\n",
       "    .dataframe tbody tr th:only-of-type {\n",
       "        vertical-align: middle;\n",
       "    }\n",
       "\n",
       "    .dataframe tbody tr th {\n",
       "        vertical-align: top;\n",
       "    }\n",
       "\n",
       "    .dataframe thead th {\n",
       "        text-align: right;\n",
       "    }\n",
       "</style>\n",
       "<table border=\"1\" class=\"dataframe\">\n",
       "  <thead>\n",
       "    <tr style=\"text-align: right;\">\n",
       "      <th></th>\n",
       "      <th>x</th>\n",
       "      <th>y</th>\n",
       "    </tr>\n",
       "  </thead>\n",
       "  <tbody>\n",
       "    <tr>\n",
       "      <th>0</th>\n",
       "      <td>-9.380678</td>\n",
       "      <td>3.58272</td>\n",
       "    </tr>\n",
       "    <tr>\n",
       "      <th>1</th>\n",
       "      <td>-9.380678</td>\n",
       "      <td>3.58272</td>\n",
       "    </tr>\n",
       "    <tr>\n",
       "      <th>2</th>\n",
       "      <td>-9.380678</td>\n",
       "      <td>3.58272</td>\n",
       "    </tr>\n",
       "    <tr>\n",
       "      <th>3</th>\n",
       "      <td>-9.380678</td>\n",
       "      <td>3.58272</td>\n",
       "    </tr>\n",
       "    <tr>\n",
       "      <th>4</th>\n",
       "      <td>-9.380678</td>\n",
       "      <td>3.58272</td>\n",
       "    </tr>\n",
       "    <tr>\n",
       "      <th>...</th>\n",
       "      <td>...</td>\n",
       "      <td>...</td>\n",
       "    </tr>\n",
       "    <tr>\n",
       "      <th>7495</th>\n",
       "      <td>-4.680678</td>\n",
       "      <td>35.18272</td>\n",
       "    </tr>\n",
       "    <tr>\n",
       "      <th>7496</th>\n",
       "      <td>-4.680678</td>\n",
       "      <td>35.18272</td>\n",
       "    </tr>\n",
       "    <tr>\n",
       "      <th>7497</th>\n",
       "      <td>-4.680678</td>\n",
       "      <td>35.18272</td>\n",
       "    </tr>\n",
       "    <tr>\n",
       "      <th>7498</th>\n",
       "      <td>-4.680678</td>\n",
       "      <td>35.18272</td>\n",
       "    </tr>\n",
       "    <tr>\n",
       "      <th>7499</th>\n",
       "      <td>-4.680678</td>\n",
       "      <td>35.18272</td>\n",
       "    </tr>\n",
       "  </tbody>\n",
       "</table>\n",
       "<p>7500 rows × 2 columns</p>\n",
       "</div>"
      ],
      "text/plain": [
       "             x         y\n",
       "0    -9.380678   3.58272\n",
       "1    -9.380678   3.58272\n",
       "2    -9.380678   3.58272\n",
       "3    -9.380678   3.58272\n",
       "4    -9.380678   3.58272\n",
       "...        ...       ...\n",
       "7495 -4.680678  35.18272\n",
       "7496 -4.680678  35.18272\n",
       "7497 -4.680678  35.18272\n",
       "7498 -4.680678  35.18272\n",
       "7499 -4.680678  35.18272\n",
       "\n",
       "[7500 rows x 2 columns]"
      ]
     },
     "execution_count": 6,
     "metadata": {},
     "output_type": "execute_result"
    }
   ],
   "source": [
    "label = pd.read_csv(\"data/train_features.csv\")\n",
    "label[[\"x\",\"y\"]]"
   ]
  },
  {
   "cell_type": "code",
   "execution_count": 7,
   "metadata": {},
   "outputs": [],
   "source": [
    "y_label = []\n",
    "for index, row in label.iterrows():\n",
    "    y_label.append((row[\"x\"],row[\"y\"]))\n",
    "y_label = np.array(y_label)\n",
    "train_image = np.array(train_image)"
   ]
  },
  {
   "cell_type": "code",
   "execution_count": 8,
   "metadata": {},
   "outputs": [],
   "source": [
    "test_image = np.array(test_image)"
   ]
  },
  {
   "cell_type": "code",
   "execution_count": 9,
   "metadata": {},
   "outputs": [
    {
     "name": "stdout",
     "output_type": "stream",
     "text": [
      "Num GPUs Available:  1\n"
     ]
    }
   ],
   "source": [
    "import tensorflow as tf\n",
    "print(\"Num GPUs Available: \", len(tf.config.experimental.list_physical_devices('GPU')))"
   ]
  },
  {
   "cell_type": "code",
   "execution_count": 10,
   "metadata": {},
   "outputs": [],
   "source": [
    "#vgg16 = VGG16(weights='imagenet',input_shape=[150,150,3],include_top=False)\n",
    "#vgg19 = VGG19(weights='imagenet',input_shape=[150,150,3],include_top=False)\n",
    "resnet50 = ResNet50(weights='imagenet',input_shape=[150,150,3],include_top=False)"
   ]
  },
  {
   "cell_type": "code",
   "execution_count": 11,
   "metadata": {},
   "outputs": [],
   "source": [
    "import tensorflow as tf\n",
    "from tensorflow import keras\n",
    "from tensorflow.keras import layers\n",
    "from keras.layers.merge import concatenate\n",
    "from tensorflow.keras.models import Model"
   ]
  },
  {
   "cell_type": "code",
   "execution_count": 16,
   "metadata": {},
   "outputs": [],
   "source": [
    "def train_model_full(pre_train):\n",
    "  for layer in pre_train.layers:\n",
    "    layer.trainable = False\n",
    "  layer = layers.Conv2D(filters = 32,kernel_size = (1,1),padding = \"same\",activation = \"relu\")(pre_train.layers[-1].output)\n",
    "  layer = layers.MaxPooling2D(pool_size=(2,2), strides=2,padding=\"same\")(layer)\n",
    "  layer = layers.Conv2D(filters = 64,kernel_size = (3,3),padding = \"same\",activation = \"relu\")(layer)\n",
    "  layer = layers.Flatten()(layer)\n",
    "  layer = layers.Dense(1024,activation=\"relu\")(layer)\n",
    "  layer = layers.Dense(2,activation=\"linear\")(layer)\n",
    "\n",
    "  model = tf.keras.Model(inputs = pre_train.inputs,outputs = layer)\n",
    "\n",
    "  return model"
   ]
  },
  {
   "cell_type": "code",
   "execution_count": 17,
   "metadata": {},
   "outputs": [],
   "source": [
    "opt = keras.optimizers.Adam(learning_rate=0.001)\n"
   ]
  },
  {
   "cell_type": "code",
   "execution_count": 18,
   "metadata": {},
   "outputs": [],
   "source": [
    "model_resnet50_full = train_model_full(resnet50)\n",
    "\n",
    "model_resnet50_full.compile(optimizer=opt,\n",
    "            loss=tf.keras.losses.MeanAbsoluteError())"
   ]
  },
  {
   "cell_type": "code",
   "execution_count": 19,
   "metadata": {},
   "outputs": [
    {
     "name": "stdout",
     "output_type": "stream",
     "text": [
      "Epoch 1/40\n",
      "59/59 [==============================] - 15s 217ms/step - loss: 32.0646\n",
      "Epoch 2/40\n",
      "59/59 [==============================] - 13s 216ms/step - loss: 22.9276\n",
      "Epoch 3/40\n",
      "59/59 [==============================] - 11s 185ms/step - loss: 19.0102\n",
      "Epoch 4/40\n",
      "59/59 [==============================] - 11s 182ms/step - loss: 16.3629\n",
      "Epoch 5/40\n",
      "59/59 [==============================] - 11s 184ms/step - loss: 14.5173\n",
      "Epoch 6/40\n",
      "59/59 [==============================] - 11s 193ms/step - loss: 13.0098\n",
      "Epoch 7/40\n",
      "59/59 [==============================] - 11s 189ms/step - loss: 11.5522\n",
      "Epoch 8/40\n",
      "59/59 [==============================] - 12s 195ms/step - loss: 10.7009\n",
      "Epoch 9/40\n",
      "59/59 [==============================] - 13s 220ms/step - loss: 10.2071\n",
      "Epoch 10/40\n",
      "59/59 [==============================] - 13s 220ms/step - loss: 9.1135\n",
      "Epoch 11/40\n",
      "59/59 [==============================] - 13s 222ms/step - loss: 8.6043\n",
      "Epoch 12/40\n",
      "59/59 [==============================] - 13s 223ms/step - loss: 7.9918\n",
      "Epoch 13/40\n",
      "59/59 [==============================] - 13s 223ms/step - loss: 7.7004\n",
      "Epoch 14/40\n",
      "59/59 [==============================] - 13s 222ms/step - loss: 6.8593\n",
      "Epoch 15/40\n",
      "59/59 [==============================] - 13s 222ms/step - loss: 6.3335\n",
      "Epoch 16/40\n",
      "59/59 [==============================] - 13s 223ms/step - loss: 6.1013\n",
      "Epoch 17/40\n",
      "59/59 [==============================] - 13s 225ms/step - loss: 5.8954\n",
      "Epoch 18/40\n",
      "59/59 [==============================] - 13s 225ms/step - loss: 5.4770\n",
      "Epoch 19/40\n",
      "59/59 [==============================] - 13s 225ms/step - loss: 5.4135\n",
      "Epoch 20/40\n",
      "59/59 [==============================] - 13s 225ms/step - loss: 5.2357\n",
      "Epoch 21/40\n",
      "59/59 [==============================] - 13s 225ms/step - loss: 5.2177\n",
      "Epoch 22/40\n",
      "59/59 [==============================] - 13s 225ms/step - loss: 5.0647\n",
      "Epoch 23/40\n",
      "59/59 [==============================] - 13s 226ms/step - loss: 4.6311\n",
      "Epoch 24/40\n",
      "59/59 [==============================] - 13s 224ms/step - loss: 4.5491\n",
      "Epoch 25/40\n",
      "59/59 [==============================] - 13s 226ms/step - loss: 4.3176\n",
      "Epoch 26/40\n",
      "59/59 [==============================] - 13s 226ms/step - loss: 4.0463\n",
      "Epoch 27/40\n",
      "59/59 [==============================] - 13s 226ms/step - loss: 3.9791\n",
      "Epoch 28/40\n",
      "59/59 [==============================] - 13s 225ms/step - loss: 4.0454\n",
      "Epoch 29/40\n",
      "59/59 [==============================] - 13s 226ms/step - loss: 4.1685\n",
      "Epoch 30/40\n",
      "59/59 [==============================] - 13s 226ms/step - loss: 3.8917\n",
      "Epoch 31/40\n",
      "59/59 [==============================] - 13s 226ms/step - loss: 3.6697\n",
      "Epoch 32/40\n",
      "59/59 [==============================] - 13s 226ms/step - loss: 3.5639\n",
      "Epoch 33/40\n",
      "59/59 [==============================] - 13s 227ms/step - loss: 3.5816\n",
      "Epoch 34/40\n",
      "59/59 [==============================] - 13s 225ms/step - loss: 3.4822\n",
      "Epoch 35/40\n",
      "59/59 [==============================] - 13s 220ms/step - loss: 3.2655\n",
      "Epoch 36/40\n",
      "59/59 [==============================] - 13s 223ms/step - loss: 3.2123\n",
      "Epoch 37/40\n",
      "59/59 [==============================] - 13s 225ms/step - loss: 3.4422\n",
      "Epoch 38/40\n",
      "59/59 [==============================] - 13s 225ms/step - loss: 3.3598\n",
      "Epoch 39/40\n",
      "59/59 [==============================] - 13s 226ms/step - loss: 3.2626\n",
      "Epoch 40/40\n",
      "59/59 [==============================] - 13s 225ms/step - loss: 3.2470\n"
     ]
    },
    {
     "data": {
      "text/plain": [
       "<tensorflow.python.keras.callbacks.History at 0x23dac425880>"
      ]
     },
     "execution_count": 19,
     "metadata": {},
     "output_type": "execute_result"
    }
   ],
   "source": [
    "model_resnet50_full.fit(train_image, label[[\"x\",\"y\"]], epochs=40, batch_size=128)"
   ]
  },
  {
   "cell_type": "code",
   "execution_count": 19,
   "metadata": {},
   "outputs": [],
   "source": [
    "result = model_resnet50_full.predict(test_image)\n"
   ]
  },
  {
   "cell_type": "code",
   "execution_count": null,
   "metadata": {},
   "outputs": [],
   "source": [
    "x = []\n",
    "y = []\n",
    "for i in result:\n",
    "   x.append(i[0])\n",
    "   y.append(i[1]) "
   ]
  },
  {
   "cell_type": "code",
   "execution_count": null,
   "metadata": {},
   "outputs": [],
   "source": [
    "test_result = pd.read_csv(\"data/imagenames.csv\")"
   ]
  },
  {
   "cell_type": "code",
   "execution_count": null,
   "metadata": {},
   "outputs": [],
   "source": [
    "test_result[\"x\"] = x\n",
    "test_result[\"y\"] = y"
   ]
  },
  {
   "cell_type": "code",
   "execution_count": null,
   "metadata": {},
   "outputs": [],
   "source": [
    "test_result.to_csv(\"result/CNN_baseline_resnet50.csv\",index=False)"
   ]
  }
 ],
 "metadata": {
  "interpreter": {
   "hash": "287d3d239aeb1281e5f3cf03f4241abc897b23c26a2bcf773cf4f70fe57fe31a"
  },
  "kernelspec": {
   "display_name": "Python 3.8.8 64-bit ('base': conda)",
   "name": "python3"
  },
  "language_info": {
   "codemirror_mode": {
    "name": "ipython",
    "version": 3
   },
   "file_extension": ".py",
   "mimetype": "text/x-python",
   "name": "python",
   "nbconvert_exporter": "python",
   "pygments_lexer": "ipython3",
   "version": "3.8.8"
  },
  "orig_nbformat": 4
 },
 "nbformat": 4,
 "nbformat_minor": 2
}
