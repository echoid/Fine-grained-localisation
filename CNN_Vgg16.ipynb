{
 "cells": [
  {
   "cell_type": "code",
   "execution_count": 1,
   "metadata": {},
   "outputs": [
    {
     "name": "stderr",
     "output_type": "stream",
     "text": [
      "Using TensorFlow backend.\n"
     ]
    }
   ],
   "source": [
    "import matplotlib.pyplot as plt\n",
    "import numpy as np\n",
    "import pandas as pd\n",
    "import os\n",
    "import cv2  \n",
    "from tqdm import tqdm\n",
    "from random import randint\n",
    "import json\n",
    "import matplotlib.image as mpimg\n",
    "from matplotlib import rcParams\n",
    "from tensorflow.keras.applications.resnet50 import ResNet50\n",
    "from tensorflow.keras.applications.vgg19 import VGG19\n",
    "from tensorflow.keras.preprocessing import image\n",
    "from tensorflow.keras.applications.resnet50 import preprocess_input, decode_predictions\n",
    "from keras.preprocessing.image import load_img \n",
    "from keras.preprocessing.image import img_to_array \n",
    "from tensorflow.keras.applications.vgg16 import preprocess_input,VGG16\n",
    "\n",
    "import tensorflow as tf\n",
    "from tensorflow import keras\n",
    "from tensorflow.keras import layers"
   ]
  },
  {
   "cell_type": "code",
   "execution_count": 2,
   "metadata": {},
   "outputs": [],
   "source": [
    "train_path = \"data/train\"\n",
    "test_path = \"data/test\""
   ]
  },
  {
   "cell_type": "code",
   "execution_count": 3,
   "metadata": {},
   "outputs": [],
   "source": [
    "train = os.listdir(train_path)\n",
    "test = os.listdir(test_path)"
   ]
  },
  {
   "cell_type": "code",
   "execution_count": 4,
   "metadata": {},
   "outputs": [],
   "source": [
    "train_image = [cv2.resize(cv2.cvtColor(cv2.imread(os.path.join(train_path, image)), cv2.COLOR_BGR2RGB),(150,150))  for image in train ]"
   ]
  },
  {
   "cell_type": "code",
   "execution_count": 8,
   "metadata": {},
   "outputs": [],
   "source": [
    "test_image = [cv2.resize(cv2.cvtColor(cv2.imread(os.path.join(test_path, image)), cv2.COLOR_BGR2RGB),(150,150))  for image in test ]"
   ]
  },
  {
   "cell_type": "code",
   "execution_count": 5,
   "metadata": {},
   "outputs": [
    {
     "data": {
      "text/html": [
       "<div>\n",
       "<style scoped>\n",
       "    .dataframe tbody tr th:only-of-type {\n",
       "        vertical-align: middle;\n",
       "    }\n",
       "\n",
       "    .dataframe tbody tr th {\n",
       "        vertical-align: top;\n",
       "    }\n",
       "\n",
       "    .dataframe thead th {\n",
       "        text-align: right;\n",
       "    }\n",
       "</style>\n",
       "<table border=\"1\" class=\"dataframe\">\n",
       "  <thead>\n",
       "    <tr style=\"text-align: right;\">\n",
       "      <th></th>\n",
       "      <th>x</th>\n",
       "      <th>y</th>\n",
       "    </tr>\n",
       "  </thead>\n",
       "  <tbody>\n",
       "    <tr>\n",
       "      <th>0</th>\n",
       "      <td>-9.380678</td>\n",
       "      <td>3.58272</td>\n",
       "    </tr>\n",
       "    <tr>\n",
       "      <th>1</th>\n",
       "      <td>-9.380678</td>\n",
       "      <td>3.58272</td>\n",
       "    </tr>\n",
       "    <tr>\n",
       "      <th>2</th>\n",
       "      <td>-9.380678</td>\n",
       "      <td>3.58272</td>\n",
       "    </tr>\n",
       "    <tr>\n",
       "      <th>3</th>\n",
       "      <td>-9.380678</td>\n",
       "      <td>3.58272</td>\n",
       "    </tr>\n",
       "    <tr>\n",
       "      <th>4</th>\n",
       "      <td>-9.380678</td>\n",
       "      <td>3.58272</td>\n",
       "    </tr>\n",
       "    <tr>\n",
       "      <th>...</th>\n",
       "      <td>...</td>\n",
       "      <td>...</td>\n",
       "    </tr>\n",
       "    <tr>\n",
       "      <th>7495</th>\n",
       "      <td>-4.680678</td>\n",
       "      <td>35.18272</td>\n",
       "    </tr>\n",
       "    <tr>\n",
       "      <th>7496</th>\n",
       "      <td>-4.680678</td>\n",
       "      <td>35.18272</td>\n",
       "    </tr>\n",
       "    <tr>\n",
       "      <th>7497</th>\n",
       "      <td>-4.680678</td>\n",
       "      <td>35.18272</td>\n",
       "    </tr>\n",
       "    <tr>\n",
       "      <th>7498</th>\n",
       "      <td>-4.680678</td>\n",
       "      <td>35.18272</td>\n",
       "    </tr>\n",
       "    <tr>\n",
       "      <th>7499</th>\n",
       "      <td>-4.680678</td>\n",
       "      <td>35.18272</td>\n",
       "    </tr>\n",
       "  </tbody>\n",
       "</table>\n",
       "<p>7500 rows × 2 columns</p>\n",
       "</div>"
      ],
      "text/plain": [
       "             x         y\n",
       "0    -9.380678   3.58272\n",
       "1    -9.380678   3.58272\n",
       "2    -9.380678   3.58272\n",
       "3    -9.380678   3.58272\n",
       "4    -9.380678   3.58272\n",
       "...        ...       ...\n",
       "7495 -4.680678  35.18272\n",
       "7496 -4.680678  35.18272\n",
       "7497 -4.680678  35.18272\n",
       "7498 -4.680678  35.18272\n",
       "7499 -4.680678  35.18272\n",
       "\n",
       "[7500 rows x 2 columns]"
      ]
     },
     "execution_count": 5,
     "metadata": {},
     "output_type": "execute_result"
    }
   ],
   "source": [
    "label = pd.read_csv(\"data/train_features.csv\")\n",
    "label[[\"x\",\"y\"]]"
   ]
  },
  {
   "cell_type": "code",
   "execution_count": 6,
   "metadata": {},
   "outputs": [],
   "source": [
    "y_label = []\n",
    "for index, row in label.iterrows():\n",
    "    y_label.append((row[\"x\"],row[\"y\"]))\n",
    "y_label = np.array(y_label)\n",
    "train_image = np.array(train_image)"
   ]
  },
  {
   "cell_type": "code",
   "execution_count": 9,
   "metadata": {},
   "outputs": [],
   "source": [
    "test_image = np.array(test_image)"
   ]
  },
  {
   "cell_type": "code",
   "execution_count": 10,
   "metadata": {},
   "outputs": [
    {
     "name": "stdout",
     "output_type": "stream",
     "text": [
      "Num GPUs Available:  1\n"
     ]
    }
   ],
   "source": [
    "import tensorflow as tf\n",
    "print(\"Num GPUs Available: \", len(tf.config.experimental.list_physical_devices('GPU')))"
   ]
  },
  {
   "cell_type": "code",
   "execution_count": 11,
   "metadata": {},
   "outputs": [],
   "source": [
    "vgg16 = VGG16(weights='imagenet',input_shape=[150,150,3],include_top=False)\n",
    "#vgg19 = VGG19(weights='imagenet',input_shape=[150,150,3],include_top=False)\n",
    "#resnet50 = ResNet50(weights='imagenet',input_shape=[150,150,3],include_top=False)"
   ]
  },
  {
   "cell_type": "code",
   "execution_count": 12,
   "metadata": {},
   "outputs": [],
   "source": [
    "import tensorflow as tf\n",
    "from tensorflow import keras\n",
    "from tensorflow.keras import layers\n",
    "from keras.layers.merge import concatenate\n",
    "from tensorflow.keras.models import Model"
   ]
  },
  {
   "cell_type": "code",
   "execution_count": 13,
   "metadata": {},
   "outputs": [],
   "source": [
    "def train_model_full(pre_train):\n",
    "  for layer in pre_train.layers:\n",
    "    layer.trainable = False\n",
    "  layer = layers.Conv2D(filters = 32,kernel_size = (1,1),padding = \"same\",activation = \"relu\")(pre_train.layers[-1].output)\n",
    "  layer = layers.MaxPooling2D(pool_size=(2,2), strides=2,padding=\"same\")(layer)\n",
    "  layer = layers.Conv2D(filters = 64,kernel_size = (3,3),padding = \"same\",activation = \"relu\")(layer)\n",
    "  layer = layers.Flatten()(layer)\n",
    "  layer = layers.Dense(1024,activation=\"relu\")(layer)\n",
    "  layer = layers.Dense(2,activation=\"linear\")(layer)\n",
    "\n",
    "  model = tf.keras.Model(inputs = pre_train.inputs,outputs = layer)\n",
    "  \n",
    "  return model"
   ]
  },
  {
   "cell_type": "code",
   "execution_count": 14,
   "metadata": {},
   "outputs": [],
   "source": [
    "opt = keras.optimizers.Adam(learning_rate=0.001)\n"
   ]
  },
  {
   "cell_type": "code",
   "execution_count": 15,
   "metadata": {},
   "outputs": [],
   "source": [
    "model_vgg16_full = train_model_full(vgg16)\n",
    "\n",
    "model_vgg16_full.compile(optimizer=opt,\n",
    "            loss=tf.keras.losses.MeanAbsoluteError())"
   ]
  },
  {
   "cell_type": "code",
   "execution_count": 16,
   "metadata": {},
   "outputs": [
    {
     "name": "stdout",
     "output_type": "stream",
     "text": [
      "Epoch 1/50\n",
      "30/30 [==============================] - 47s 810ms/step - loss: 36.4541\n",
      "Epoch 2/50\n",
      "30/30 [==============================] - 17s 573ms/step - loss: 29.7609\n",
      "Epoch 3/50\n",
      "30/30 [==============================] - 17s 573ms/step - loss: 27.2899\n",
      "Epoch 4/50\n",
      "30/30 [==============================] - 17s 576ms/step - loss: 25.6271\n",
      "Epoch 5/50\n",
      "30/30 [==============================] - 17s 576ms/step - loss: 24.2657\n",
      "Epoch 6/50\n",
      "30/30 [==============================] - 17s 578ms/step - loss: 22.8883\n",
      "Epoch 7/50\n",
      "30/30 [==============================] - 22s 735ms/step - loss: 21.9194\n",
      "Epoch 8/50\n",
      "30/30 [==============================] - 23s 755ms/step - loss: 21.1325\n",
      "Epoch 9/50\n",
      "30/30 [==============================] - 23s 767ms/step - loss: 20.2108\n",
      "Epoch 10/50\n",
      "30/30 [==============================] - 23s 774ms/step - loss: 19.5074\n",
      "Epoch 11/50\n",
      "30/30 [==============================] - 23s 781ms/step - loss: 18.8432\n",
      "Epoch 12/50\n",
      "30/30 [==============================] - 21s 708ms/step - loss: 18.1227\n",
      "Epoch 13/50\n",
      "30/30 [==============================] - 19s 630ms/step - loss: 17.4762\n",
      "Epoch 14/50\n",
      "30/30 [==============================] - 20s 653ms/step - loss: 16.9554\n",
      "Epoch 15/50\n",
      "30/30 [==============================] - 19s 633ms/step - loss: 16.4899\n",
      "Epoch 16/50\n",
      "30/30 [==============================] - 19s 635ms/step - loss: 16.1371\n",
      "Epoch 17/50\n",
      "30/30 [==============================] - 22s 737ms/step - loss: 15.5890\n",
      "Epoch 18/50\n",
      "30/30 [==============================] - 21s 685ms/step - loss: 15.1101\n",
      "Epoch 19/50\n",
      "30/30 [==============================] - 20s 655ms/step - loss: 14.8377\n",
      "Epoch 20/50\n",
      "30/30 [==============================] - 21s 704ms/step - loss: 14.3578\n",
      "Epoch 21/50\n",
      "30/30 [==============================] - 24s 812ms/step - loss: 13.7999\n",
      "Epoch 22/50\n",
      "30/30 [==============================] - 25s 836ms/step - loss: 13.5378\n",
      "Epoch 23/50\n",
      "30/30 [==============================] - 25s 835ms/step - loss: 13.5314\n",
      "Epoch 24/50\n",
      "30/30 [==============================] - 25s 833ms/step - loss: 13.1022\n",
      "Epoch 25/50\n",
      "30/30 [==============================] - 25s 836ms/step - loss: 12.6904\n",
      "Epoch 26/50\n",
      "30/30 [==============================] - 25s 838ms/step - loss: 12.3835\n",
      "Epoch 27/50\n",
      "30/30 [==============================] - 25s 837ms/step - loss: 12.3225\n",
      "Epoch 28/50\n",
      "30/30 [==============================] - 25s 845ms/step - loss: 12.0556\n",
      "Epoch 29/50\n",
      "30/30 [==============================] - 25s 844ms/step - loss: 11.8773\n",
      "Epoch 30/50\n",
      "30/30 [==============================] - 25s 845ms/step - loss: 11.4516\n",
      "Epoch 31/50\n",
      "30/30 [==============================] - 25s 847ms/step - loss: 11.2282\n",
      "Epoch 32/50\n",
      "30/30 [==============================] - 25s 818ms/step - loss: 10.8550\n",
      "Epoch 33/50\n",
      "30/30 [==============================] - 23s 760ms/step - loss: 10.6777\n",
      "Epoch 34/50\n",
      "30/30 [==============================] - 20s 668ms/step - loss: 10.6004\n",
      "Epoch 35/50\n",
      "30/30 [==============================] - 20s 670ms/step - loss: 10.4251\n",
      "Epoch 36/50\n",
      "30/30 [==============================] - 21s 686ms/step - loss: 10.2323\n",
      "Epoch 37/50\n",
      "30/30 [==============================] - 21s 685ms/step - loss: 10.2318\n",
      "Epoch 38/50\n",
      "30/30 [==============================] - 22s 721ms/step - loss: 9.8776\n",
      "Epoch 39/50\n",
      "30/30 [==============================] - 21s 702ms/step - loss: 9.7040\n",
      "Epoch 40/50\n",
      "30/30 [==============================] - 21s 699ms/step - loss: 9.4461\n",
      "Epoch 41/50\n",
      "30/30 [==============================] - 21s 693ms/step - loss: 9.4777\n",
      "Epoch 42/50\n",
      "30/30 [==============================] - 20s 667ms/step - loss: 9.2501\n",
      "Epoch 43/50\n",
      "30/30 [==============================] - 21s 690ms/step - loss: 9.0160\n",
      "Epoch 44/50\n",
      "30/30 [==============================] - 22s 720ms/step - loss: 8.8745\n",
      "Epoch 45/50\n",
      "30/30 [==============================] - 21s 702ms/step - loss: 8.8087\n",
      "Epoch 46/50\n",
      "30/30 [==============================] - 22s 717ms/step - loss: 8.8008\n",
      "Epoch 47/50\n",
      "30/30 [==============================] - 20s 674ms/step - loss: 8.9916\n",
      "Epoch 48/50\n",
      "30/30 [==============================] - 21s 683ms/step - loss: 8.3440\n",
      "Epoch 49/50\n",
      "30/30 [==============================] - 21s 701ms/step - loss: 8.3753\n",
      "Epoch 50/50\n",
      "30/30 [==============================] - 21s 698ms/step - loss: 8.2276\n"
     ]
    },
    {
     "data": {
      "text/plain": [
       "<tensorflow.python.keras.callbacks.History at 0x1148a06a190>"
      ]
     },
     "execution_count": 16,
     "metadata": {},
     "output_type": "execute_result"
    }
   ],
   "source": [
    "model_vgg16_full.fit(train_image, label[[\"x\",\"y\"]], epochs=50, batch_size=256)"
   ]
  },
  {
   "cell_type": "code",
   "execution_count": 17,
   "metadata": {},
   "outputs": [],
   "source": [
    "result = model_vgg16_full.predict(test_image)\n"
   ]
  },
  {
   "cell_type": "code",
   "execution_count": 18,
   "metadata": {},
   "outputs": [],
   "source": [
    "x = []\n",
    "y = []\n",
    "for i in result:\n",
    "   x.append(i[0])\n",
    "   y.append(i[1]) "
   ]
  },
  {
   "cell_type": "code",
   "execution_count": 19,
   "metadata": {},
   "outputs": [],
   "source": [
    "test_result = pd.read_csv(\"data/imagenames.csv\")"
   ]
  },
  {
   "cell_type": "code",
   "execution_count": 20,
   "metadata": {},
   "outputs": [],
   "source": [
    "test_result[\"x\"] = x\n",
    "test_result[\"y\"] = y"
   ]
  },
  {
   "cell_type": "code",
   "execution_count": null,
   "metadata": {},
   "outputs": [],
   "source": [
    "test_result.to_csv(\"result/CNN_baseline_vgg16.csv\",index=False)"
   ]
  }
 ],
 "metadata": {
  "interpreter": {
   "hash": "287d3d239aeb1281e5f3cf03f4241abc897b23c26a2bcf773cf4f70fe57fe31a"
  },
  "kernelspec": {
   "display_name": "Python 3.8.8 64-bit ('base': conda)",
   "name": "python3"
  },
  "language_info": {
   "codemirror_mode": {
    "name": "ipython",
    "version": 3
   },
   "file_extension": ".py",
   "mimetype": "text/x-python",
   "name": "python",
   "nbconvert_exporter": "python",
   "pygments_lexer": "ipython3",
   "version": "3.8.8"
  },
  "orig_nbformat": 4
 },
 "nbformat": 4,
 "nbformat_minor": 2
}
